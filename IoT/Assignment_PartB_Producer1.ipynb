{
 "cells": [
  {
   "cell_type": "code",
   "execution_count": 1,
   "id": "3962ed18",
   "metadata": {},
   "outputs": [],
   "source": [
    "from pprint import pprint\n",
    "import pandas as pd\n",
    "import json\n",
    "from datetime import datetime, timedelta\n",
    "\n",
    "host_ip = \"192.168.0.129\""
   ]
  },
  {
   "cell_type": "code",
   "execution_count": 2,
   "id": "ba7b7c26",
   "metadata": {},
   "outputs": [],
   "source": [
    "import csv\n",
    "\n",
    "#Climate_streaming list contains dictionaries, where each dictionary represents a row of data from the CSV file\n",
    "climate_streaming = []\n",
    "with open('Data/climate_streaming.csv', encoding='utf-8') as file1:\n",
    "    reader = csv.DictReader(file1)\n",
    "    for row in reader:\n",
    "        climate_streaming.append(row)   \n"
   ]
  },
  {
   "cell_type": "code",
   "execution_count": 3,
   "id": "b9f763d9",
   "metadata": {},
   "outputs": [],
   "source": [
    "from time import sleep\n",
    "from json import dumps\n",
    "from kafka3 import KafkaProducer\n",
    "import random\n",
    "import datetime as dt"
   ]
  },
  {
   "cell_type": "code",
   "execution_count": 4,
   "id": "c88dead8",
   "metadata": {},
   "outputs": [],
   "source": [
    "#Used to publish messages to a Kafka topic by passing a Kafka producer instance, topic name, key, and data as parameters.\n",
    "def publish_message(producer_instance, topic_name, key, data):\n",
    "    try:\n",
    "        key_bytes = bytes(key, encoding='utf-8')\n",
    "        producer_instance.send(topic_name, key=key_bytes, value=data)\n",
    "        producer_instance.flush()\n",
    "        print('Message published successfully. Data: ' + str(data))\n",
    "    except Exception as ex:\n",
    "        print('Exception in publishing message.')\n",
    "        print(str(ex))"
   ]
  },
  {
   "cell_type": "code",
   "execution_count": 5,
   "id": "fc8fd983",
   "metadata": {},
   "outputs": [],
   "source": [
    "#Used to establish a connection to a Kafka broker and obtain a KafkaProducer instance by calling connect_kafka_producer(). \n",
    "#The returned KafkaProducer instance can then be used to publish messages to Kafka topics.\n",
    "def connect_kafka_producer():\n",
    "    _producer = None\n",
    "    try:\n",
    "        _producer = KafkaProducer(bootstrap_servers=[f'{host_ip}:9092'],\n",
    "                                  value_serializer=lambda x:dumps(x).encode('ascii'),\n",
    "                                  api_version=(0, 10))\n",
    "    except Exception as ex:\n",
    "        print('Exception while connecting Kafka.')\n",
    "        print(str(ex))\n",
    "    finally:\n",
    "        return _producer"
   ]
  },
  {
   "cell_type": "code",
   "execution_count": null,
   "id": "7d5bbf3a",
   "metadata": {},
   "outputs": [
    {
     "name": "stdout",
     "output_type": "stream",
     "text": [
      "Publishing records..\n",
      "Message published successfully. Data: {'latitude': -37.623, 'longitude': 149.323, 'air_temperature_celcius': 19, 'relative_humidity': 56.8, 'windspeed_knots': 7.9, 'max_wind_speed': 11.1, 'precipitation': ' 0.00I', 'GHI_w/m2': 154, 'date': '2/1/2023', 'datetime': '2023-01-02T00:00:00', 'station': 111}\n",
      "Message published successfully. Data: {'latitude': -38.038, 'longitude': 142.986, 'air_temperature_celcius': 15, 'relative_humidity': 50.7, 'windspeed_knots': 9.2, 'max_wind_speed': 13.0, 'precipitation': ' 0.02G', 'GHI_w/m2': 128, 'date': '3/1/2023', 'datetime': '2023-01-03T00:00:00', 'station': 111}\n",
      "Message published successfully. Data: {'latitude': -37.95, 'longitude': 142.366, 'air_temperature_celcius': 16, 'relative_humidity': 53.6, 'windspeed_knots': 8.1, 'max_wind_speed': 15.0, 'precipitation': ' 0.00G', 'GHI_w/m2': 133, 'date': '4/1/2023', 'datetime': '2023-01-04T00:00:00', 'station': 111}\n",
      "Message published successfully. Data: {'latitude': -38.231, 'longitude': 147.172, 'air_temperature_celcius': 24, 'relative_humidity': 61.6, 'windspeed_knots': 7.7, 'max_wind_speed': 14.0, 'precipitation': ' 0.00I', 'GHI_w/m2': 186, 'date': '5/1/2023', 'datetime': '2023-01-05T00:00:00', 'station': 111}\n",
      "Message published successfully. Data: {'latitude': -37.903, 'longitude': 145.25, 'air_temperature_celcius': 24, 'relative_humidity': 62.3, 'windspeed_knots': 7.0, 'max_wind_speed': 13.0, 'precipitation': ' 0.00I', 'GHI_w/m2': 185, 'date': '6/1/2023', 'datetime': '2023-01-06T00:00:00', 'station': 111}\n",
      "Message published successfully. Data: {'latitude': -37.987, 'longitude': 144.005, 'air_temperature_celcius': 26, 'relative_humidity': 60.8, 'windspeed_knots': 6.9, 'max_wind_speed': 12.0, 'precipitation': ' 0.00I', 'GHI_w/m2': 203, 'date': '7/1/2023', 'datetime': '2023-01-07T00:00:00', 'station': 111}\n",
      "Message published successfully. Data: {'latitude': -34.289, 'longitude': 141.712, 'air_temperature_celcius': 32, 'relative_humidity': 54.1, 'windspeed_knots': 12.8, 'max_wind_speed': 19.0, 'precipitation': ' 0.00I', 'GHI_w/m2': 265, 'date': '8/1/2023', 'datetime': '2023-01-08T00:00:00', 'station': 111}\n",
      "Message published successfully. Data: {'latitude': -36.294, 'longitude': 146.149, 'air_temperature_celcius': 20, 'relative_humidity': 57.7, 'windspeed_knots': 9.9, 'max_wind_speed': 18.1, 'precipitation': ' 0.00I', 'GHI_w/m2': 160, 'date': '9/1/2023', 'datetime': '2023-01-09T00:00:00', 'station': 111}\n",
      "Message published successfully. Data: {'latitude': -36.285, 'longitude': 146.151, 'air_temperature_celcius': 19, 'relative_humidity': 56.3, 'windspeed_knots': 5.8, 'max_wind_speed': 8.9, 'precipitation': ' 0.00I', 'GHI_w/m2': 154, 'date': '10/1/2023', 'datetime': '2023-01-10T00:00:00', 'station': 111}\n",
      "Message published successfully. Data: {'latitude': -36.277, 'longitude': 146.165, 'air_temperature_celcius': 20, 'relative_humidity': 57.0, 'windspeed_knots': 8.7, 'max_wind_speed': 13.0, 'precipitation': ' 0.00I', 'GHI_w/m2': 161, 'date': '11/1/2023', 'datetime': '2023-01-11T00:00:00', 'station': 111}\n",
      "Message published successfully. Data: {'latitude': -36.275, 'longitude': 146.154, 'air_temperature_celcius': 18, 'relative_humidity': 53.3, 'windspeed_knots': 7.9, 'max_wind_speed': 14.0, 'precipitation': ' 0.00I', 'GHI_w/m2': 150, 'date': '12/1/2023', 'datetime': '2023-01-12T00:00:00', 'station': 111}\n",
      "Message published successfully. Data: {'latitude': -36.273, 'longitude': 146.155, 'air_temperature_celcius': 22, 'relative_humidity': 56.3, 'windspeed_knots': 8.0, 'max_wind_speed': 13.0, 'precipitation': ' 0.08G', 'GHI_w/m2': 179, 'date': '13/1/2023', 'datetime': '2023-01-13T00:00:00', 'station': 111}\n",
      "Message published successfully. Data: {'latitude': -36.284, 'longitude': 146.145, 'air_temperature_celcius': 19, 'relative_humidity': 54.1, 'windspeed_knots': 11.2, 'max_wind_speed': 18.1, 'precipitation': ' 0.31G', 'GHI_w/m2': 157, 'date': '14/1/2023', 'datetime': '2023-01-14T00:00:00', 'station': 111}\n",
      "Message published successfully. Data: {'latitude': -36.282, 'longitude': 146.157, 'air_temperature_celcius': 17, 'relative_humidity': 50.4, 'windspeed_knots': 11.9, 'max_wind_speed': 16.9, 'precipitation': ' 0.00G', 'GHI_w/m2': 145, 'date': '15/1/2023', 'datetime': '2023-01-15T00:00:00', 'station': 111}\n",
      "Message published successfully. Data: {'latitude': -36.293, 'longitude': 146.148, 'air_temperature_celcius': 16, 'relative_humidity': 50.8, 'windspeed_knots': 5.8, 'max_wind_speed': 12.0, 'precipitation': ' 0.00I', 'GHI_w/m2': 136, 'date': '16/1/2023', 'datetime': '2023-01-16T00:00:00', 'station': 111}\n",
      "Message published successfully. Data: {'latitude': -36.291, 'longitude': 146.159, 'air_temperature_celcius': 24, 'relative_humidity': 55.4, 'windspeed_knots': 5.9, 'max_wind_speed': 9.9, 'precipitation': ' 0.00I', 'GHI_w/m2': 196, 'date': '17/1/2023', 'datetime': '2023-01-17T00:00:00', 'station': 111}\n",
      "Message published successfully. Data: {'latitude': -37.635, 'longitude': 149.303, 'air_temperature_celcius': 24, 'relative_humidity': 53.4, 'windspeed_knots': 9.9, 'max_wind_speed': 15.9, 'precipitation': ' 0.00I', 'GHI_w/m2': 200, 'date': '18/1/2023', 'datetime': '2023-01-18T00:00:00', 'station': 111}\n",
      "Message published successfully. Data: {'latitude': -37.591, 'longitude': 149.33, 'air_temperature_celcius': 16, 'relative_humidity': 46.7, 'windspeed_knots': 10.0, 'max_wind_speed': 16.9, 'precipitation': ' 0.00I', 'GHI_w/m2': 141, 'date': '19/1/2023', 'datetime': '2023-01-19T00:00:00', 'station': 111}\n",
      "Message published successfully. Data: {'latitude': -37.59, 'longitude': 149.31, 'air_temperature_celcius': 19, 'relative_humidity': 57.2, 'windspeed_knots': 8.9, 'max_wind_speed': 15.0, 'precipitation': ' 0.98G', 'GHI_w/m2': 153, 'date': '20/1/2023', 'datetime': '2023-01-20T00:00:00', 'station': 111}\n",
      "Message published successfully. Data: {'latitude': -37.633, 'longitude': 149.264, 'air_temperature_celcius': 16, 'relative_humidity': 50.9, 'windspeed_knots': 12.9, 'max_wind_speed': 21.0, 'precipitation': ' 0.03G', 'GHI_w/m2': 136, 'date': '21/1/2023', 'datetime': '2023-01-21T00:00:00', 'station': 111}\n",
      "Message published successfully. Data: {'latitude': -37.585, 'longitude': 149.336, 'air_temperature_celcius': 17, 'relative_humidity': 52.5, 'windspeed_knots': 6.7, 'max_wind_speed': 12.0, 'precipitation': ' 0.00G', 'GHI_w/m2': 143, 'date': '22/1/2023', 'datetime': '2023-01-22T00:00:00', 'station': 111}\n",
      "Message published successfully. Data: {'latitude': -37.58, 'longitude': 149.331, 'air_temperature_celcius': 23, 'relative_humidity': 59.0, 'windspeed_knots': 6.0, 'max_wind_speed': 12.0, 'precipitation': ' 0.00I', 'GHI_w/m2': 182, 'date': '23/1/2023', 'datetime': '2023-01-23T00:00:00', 'station': 111}\n",
      "Message published successfully. Data: {'latitude': -37.583, 'longitude': 149.316, 'air_temperature_celcius': 25, 'relative_humidity': 58.3, 'windspeed_knots': 12.2, 'max_wind_speed': 22.0, 'precipitation': ' 0.04G', 'GHI_w/m2': 199, 'date': '24/1/2023', 'datetime': '2023-01-24T00:00:00', 'station': 111}\n",
      "Message published successfully. Data: {'latitude': -37.38, 'longitude': 149.334, 'air_temperature_celcius': 16, 'relative_humidity': 48.2, 'windspeed_knots': 9.9, 'max_wind_speed': 18.1, 'precipitation': ' 0.01G', 'GHI_w/m2': 139, 'date': '25/1/2023', 'datetime': '2023-01-25T00:00:00', 'station': 111}\n",
      "Message published successfully. Data: {'latitude': -37.602, 'longitude': 149.295, 'air_temperature_celcius': 17, 'relative_humidity': 50.8, 'windspeed_knots': 9.0, 'max_wind_speed': 15.9, 'precipitation': ' 0.00G', 'GHI_w/m2': 145, 'date': '26/1/2023', 'datetime': '2023-01-26T00:00:00', 'station': 111}\n",
      "Message published successfully. Data: {'latitude': -37.598, 'longitude': 149.29, 'air_temperature_celcius': 18, 'relative_humidity': 53.5, 'windspeed_knots': 8.8, 'max_wind_speed': 13.0, 'precipitation': ' 0.00I', 'GHI_w/m2': 150, 'date': '27/1/2023', 'datetime': '2023-01-27T00:00:00', 'station': 111}\n",
      "Message published successfully. Data: {'latitude': -37.596, 'longitude': 149.319, 'air_temperature_celcius': 19, 'relative_humidity': 56.1, 'windspeed_knots': 6.9, 'max_wind_speed': 12.0, 'precipitation': ' 0.00A', 'GHI_w/m2': 155, 'date': '28/1/2023', 'datetime': '2023-01-28T00:00:00', 'station': 111}\n"
     ]
    },
    {
     "name": "stdout",
     "output_type": "stream",
     "text": [
      "Message published successfully. Data: {'latitude': -37.63, 'longitude': 149.232, 'air_temperature_celcius': 18, 'relative_humidity': 57.0, 'windspeed_knots': 7.4, 'max_wind_speed': 15.0, 'precipitation': ' 0.00I', 'GHI_w/m2': 145, 'date': '29/1/2023', 'datetime': '2023-01-29T00:00:00', 'station': 111}\n",
      "Message published successfully. Data: {'latitude': -37.644, 'longitude': 149.233, 'air_temperature_celcius': 22, 'relative_humidity': 58.0, 'windspeed_knots': 6.9, 'max_wind_speed': 12.0, 'precipitation': ' 0.00I', 'GHI_w/m2': 176, 'date': '30/1/2023', 'datetime': '2023-01-30T00:00:00', 'station': 111}\n",
      "Message published successfully. Data: {'latitude': -37.642, 'longitude': 149.263, 'air_temperature_celcius': 20, 'relative_humidity': 55.8, 'windspeed_knots': 10.5, 'max_wind_speed': 15.9, 'precipitation': ' 0.01G', 'GHI_w/m2': 163, 'date': '31/1/2023', 'datetime': '2023-01-31T00:00:00', 'station': 111}\n",
      "Message published successfully. Data: {'latitude': -37.634, 'longitude': 149.237, 'air_temperature_celcius': 16, 'relative_humidity': 48.4, 'windspeed_knots': 8.1, 'max_wind_speed': 15.9, 'precipitation': ' 0.00G', 'GHI_w/m2': 139, 'date': '1/2/2023', 'datetime': '2023-02-01T00:00:00', 'station': 111}\n",
      "Message published successfully. Data: {'latitude': -37.384, 'longitude': 149.336, 'air_temperature_celcius': 16, 'relative_humidity': 48.9, 'windspeed_knots': 5.4, 'max_wind_speed': 8.9, 'precipitation': ' 0.00I', 'GHI_w/m2': 138, 'date': '2/2/2023', 'datetime': '2023-02-02T00:00:00', 'station': 111}\n",
      "Message published successfully. Data: {'latitude': -37.389, 'longitude': 149.311, 'air_temperature_celcius': 18, 'relative_humidity': 53.0, 'windspeed_knots': 6.6, 'max_wind_speed': 14.0, 'precipitation': ' 0.00I', 'GHI_w/m2': 150, 'date': '3/2/2023', 'datetime': '2023-02-03T00:00:00', 'station': 111}\n",
      "Message published successfully. Data: {'latitude': -37.605, 'longitude': 149.302, 'air_temperature_celcius': 18, 'relative_humidity': 54.4, 'windspeed_knots': 5.7, 'max_wind_speed': 9.9, 'precipitation': ' 0.00I', 'GHI_w/m2': 149, 'date': '4/2/2023', 'datetime': '2023-02-04T00:00:00', 'station': 111}\n",
      "Message published successfully. Data: {'latitude': -37.627, 'longitude': 149.261, 'air_temperature_celcius': 26, 'relative_humidity': 53.7, 'windspeed_knots': 8.7, 'max_wind_speed': 15.0, 'precipitation': ' 0.00I', 'GHI_w/m2': 216, 'date': '5/2/2023', 'datetime': '2023-02-05T00:00:00', 'station': 111}\n"
     ]
    }
   ],
   "source": [
    "#Publishes each item in the climate_streaming list as a message to the Kafka topic every 10 seconds.\n",
    "#The data is transformed into a dictionary format and sent to the Kafka broker using the publish_message() function.\n",
    "#Data sent is appended with producer information for identification purposes\n",
    "#Datetime is added by 24 hours(1 day) for every 10 seconds\n",
    "if __name__ == '__main__':\n",
    "   \n",
    "    topic = 'Scenario01'\n",
    "    \n",
    "    print('Publishing records..')\n",
    "    producer = connect_kafka_producer()\n",
    "    \n",
    "    date = datetime(2023, 1, 1)\n",
    "    \n",
    "    for data in climate_streaming:\n",
    "        date += timedelta(days=1)\n",
    "        data_to_send = {\n",
    "                    \"latitude\": float(data['latitude']),\n",
    "                    \"longitude\": float(data['longitude']),\n",
    "                    \"air_temperature_celcius\": int(data['air_temperature_celcius']),\n",
    "                    \"relative_humidity\": float(data[\"relative_humidity\"]),\n",
    "                    \"windspeed_knots\": float(data[\"windspeed_knots\"]),\n",
    "                    \"max_wind_speed\": float(data[\"max_wind_speed\"]),\n",
    "                    \"precipitation\": data['precipitation '], \n",
    "                    \"GHI_w/m2\": int(data[\"GHI_w/m2\"]),\n",
    "                    \"date\": date.strftime(\"%-d/%-m/%Y\"),\n",
    "                    \"datetime\": date.isoformat(),\n",
    "                    \"station\": 111\n",
    "                }\n",
    "\n",
    "        publish_message(producer, topic, 'jsondata', data_to_send)\n",
    "        sleep(10)"
   ]
  },
  {
   "cell_type": "code",
   "execution_count": null,
   "id": "cfdfc68a",
   "metadata": {},
   "outputs": [],
   "source": []
  }
 ],
 "metadata": {
  "kernelspec": {
   "display_name": "Python 3 (ipykernel)",
   "language": "python",
   "name": "python3"
  },
  "language_info": {
   "codemirror_mode": {
    "name": "ipython",
    "version": 3
   },
   "file_extension": ".py",
   "mimetype": "text/x-python",
   "name": "python",
   "nbconvert_exporter": "python",
   "pygments_lexer": "ipython3",
   "version": "3.8.16"
  }
 },
 "nbformat": 4,
 "nbformat_minor": 5
}
