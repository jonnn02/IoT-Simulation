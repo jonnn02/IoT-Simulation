{
 "cells": [
  {
   "cell_type": "code",
   "execution_count": 1,
   "id": "c0a0f7a8",
   "metadata": {},
   "outputs": [],
   "source": [
    "# !pip install python-geohash\n",
    "import json\n",
    "from pymongo import MongoClient\n",
    "from pyspark.sql import SparkSession\n",
    "import geohash\n",
    "import os\n",
    "os.environ['PYSPARK_SUBMIT_ARGS'] = '--packages org.apache.spark:spark-streaming-kafka-0-10_2.12:3.3.0,org.apache.spark:spark-sql-kafka-0-10_2.12:3.3.0 pyspark-shell'"
   ]
  },
  {
   "cell_type": "code",
   "execution_count": 2,
   "id": "f536fab6",
   "metadata": {},
   "outputs": [],
   "source": [
    "host_ip = \"192.168.0.129\"\n",
    "\n",
    "#If a SparkSession already exists, it retrieves it; otherwise, it creates a new one.\n",
    "spark = (\n",
    "    SparkSession.builder\n",
    "    .master('local[*]')\n",
    "    .appName('Streaming Application')\n",
    "    .getOrCreate()\n",
    ")"
   ]
  },
  {
   "cell_type": "code",
   "execution_count": 3,
   "id": "53670e42",
   "metadata": {},
   "outputs": [],
   "source": [
    "#Reads streaming data from topic Scenario01 produced by Kafka Producers\n",
    "kafka_sdf = (\n",
    "    spark.readStream\n",
    "    .format('kafka')\n",
    "    .option('kafka.bootstrap.servers', f'{host_ip}:9092')\n",
    "    .option(\"failOnDataLoss\", \"false\")\n",
    "    .option('subscribe', 'Scenario01')\n",
    "    .load()\n",
    ")"
   ]
  },
  {
   "cell_type": "code",
   "execution_count": 4,
   "id": "205fe64c",
   "metadata": {},
   "outputs": [],
   "source": [
    "#Contains serialized data that we need\n",
    "climate_sdf = kafka_sdf.select('value')"
   ]
  },
  {
   "cell_type": "code",
   "execution_count": 5,
   "id": "11458c7d",
   "metadata": {},
   "outputs": [],
   "source": [
    "def write_db(data):\n",
    "    client = MongoClient(host_ip, 27017)\n",
    "    db = client.fit3182_assignment_db\n",
    "    climate_collection = db.PartB\n",
    "    climate_collection.insert_one(data)\n",
    "    print(data)"
   ]
  },
  {
   "cell_type": "code",
   "execution_count": 6,
   "id": "49ea53a9",
   "metadata": {},
   "outputs": [
    {
     "data": {
      "text/plain": [
       "<pymongo.results.DeleteResult at 0x7f3c7d226af0>"
      ]
     },
     "execution_count": 6,
     "metadata": {},
     "output_type": "execute_result"
    }
   ],
   "source": [
    "client = MongoClient(host_ip, 27017)\n",
    "db = client.fit3182_assignment_db\n",
    "climate_collection = db.PartB\n",
    "climate_collection.delete_many({})"
   ]
  },
  {
   "cell_type": "code",
   "execution_count": 7,
   "id": "1baba666",
   "metadata": {},
   "outputs": [],
   "source": [
    "#Processes the streaming data, extracts climate and hotspot data, groups the hotspot data based on geohash precision 5, \n",
    "#and writes the processed data to the database.\n",
    "def stream_process_batch(df, epoch_id):\n",
    "    flag_hash3 = False\n",
    "    data = df.collect()\n",
    "    json_data = [json.loads(row.value.decode(\"utf-8\")) for row in data]\n",
    "    \n",
    "    climate_geohash_value = 0\n",
    "    \n",
    "    #Find climate data\n",
    "    for elem in json_data:\n",
    "        if elem.get(\"station\") == 111:\n",
    "            climate_data = elem\n",
    "            climate_geohash_value = geohash.encode(climate_data.get(\"latitude\"), climate_data.get(\"longitude\"), precision=3)\n",
    "            break\n",
    "    #Exit function if climate doesn't exist\n",
    "    if climate_geohash_value ==0:\n",
    "        print(\"NO CLIMATE FOUND\")\n",
    "        return\n",
    "    \n",
    "    geohash_groups_p3 = []\n",
    "    geohash_groups_p5 = {}\n",
    "    \n",
    "    #Compute geohash for hotspot data and find the ones that are same geohash as chosen climate data\n",
    "    for elem in json_data:\n",
    "        if elem.get(\"station\") != 111:\n",
    "            hotspot_data = elem\n",
    "            geohash_value = geohash.encode(hotspot_data.get(\"latitude\"), hotspot_data.get(\"longitude\"), precision=3)\n",
    "            if climate_geohash_value == geohash_value:\n",
    "                geohash_groups_p3.append(hotspot_data)\n",
    "                flag_hash3 = True\n",
    "    #If there is no matching hotspot data, push climate data only\n",
    "    if flag_hash3 == False:\n",
    "        climate_reference = {\n",
    "            \"geohash_value\":climate_geohash_value,\n",
    "            \"latitude\": float(climate_data['latitude']),\n",
    "            \"longitude\": float(climate_data['longitude']),\n",
    "            \"air_temperature_celcius\": int(climate_data['air_temperature_celcius']),\n",
    "            \"relative_humidity\": float(climate_data[\"relative_humidity\"]),\n",
    "            \"windspeed_knots\": float(climate_data[\"windspeed_knots\"]),\n",
    "            \"max_wind_speed\": float(climate_data[\"max_wind_speed\"]),\n",
    "            \"precipitation\": climate_data['precipitation'], \n",
    "            \"GHI_w/m2\": int(climate_data[\"GHI_w/m2\"]),\n",
    "            \"date\": climate_data['date'],\n",
    "            \"datetime\": climate_data['datetime'],\n",
    "            \"station\": climate_data['station']\n",
    "        }\n",
    "        write_db(climate_reference)\n",
    "        return\n",
    "        \n",
    "    else: \n",
    "        #Compute geohash precision 5 between hotspot data, and save respective hotspot data with their respective\n",
    "        #precision 5 key\n",
    "        for item in geohash_groups_p3:\n",
    "            item_geohash_value = geohash.encode(item.get(\"latitude\"), item.get(\"longitude\"), precision=5)\n",
    "            if item_geohash_value in geohash_groups_p5:\n",
    "                geohash_groups_p5[item_geohash_value].append(item)\n",
    "            else:\n",
    "                geohash_groups_p5[item_geohash_value] = [item]\n",
    "                \n",
    "        if climate_data['air_temperature_celcius']>20 and climate_data[\"GHI_w/m2\"]>180:\n",
    "            fire_event = \"natural\"\n",
    "        else:\n",
    "            fire_event=\"other\"\n",
    "        \n",
    "        #Push climate data onto mongo with geohash value as primary key\n",
    "        climate_reference = {\n",
    "            \"geohash_value\":climate_geohash_value,\n",
    "            \"latitude\": float(climate_data['latitude']),\n",
    "            \"longitude\": float(climate_data['longitude']),\n",
    "            \"air_temperature_celcius\": int(climate_data['air_temperature_celcius']),\n",
    "            \"relative_humidity\": float(climate_data[\"relative_humidity\"]),\n",
    "            \"windspeed_knots\": float(climate_data[\"windspeed_knots\"]),\n",
    "            \"max_wind_speed\": float(climate_data[\"max_wind_speed\"]),\n",
    "            \"precipitation\": climate_data['precipitation'], \n",
    "            \"GHI_w/m2\": int(climate_data[\"GHI_w/m2\"]),\n",
    "            \"date\": climate_data['date'],\n",
    "            \"datetime\": climate_data['datetime'],\n",
    "            \"station\": climate_data['station']\n",
    "        }\n",
    "        write_db(climate_reference)\n",
    "        \n",
    "        #Average confidence and surface temperature for hotspot data with same precision 5 key\n",
    "        for key, geo_grps in geohash_groups_p5.items():\n",
    "                hotspot_reference={\n",
    "                    \"hotspot_geohash_value\": climate_geohash_value,\n",
    "                    \"latitude\": geo_grps[0]['latitude'],\n",
    "                    \"longitude\": geo_grps[0]['longitude'],\n",
    "                    \"confidence\": sum(elem1['confidence'] for elem1 in geo_grps) / len(geo_grps),\n",
    "                    \"surface_temperature_celcius\": sum(elem1['surface_temperature_celcius'] for elem1 in geo_grps) / len(geo_grps),\n",
    "                    \"date\": geo_grps[0]['date'] ,\n",
    "                    \"datetime\": geo_grps[0]['datetime'] ,\n",
    "                    \"station\": geo_grps[0]['station'],\n",
    "                    \"fire_event\":fire_event\n",
    "                }\n",
    "                write_db(hotspot_reference)\n",
    "            \n",
    "    \n"
   ]
  },
  {
   "cell_type": "code",
   "execution_count": 8,
   "id": "f6077e84",
   "metadata": {},
   "outputs": [],
   "source": [
    "#Sets up a streaming writer to write the streaming data to the console output, with a trigger interval of 10 seconds \n",
    "#and using stream_process_batch function to handle the actual processing of the data in each batch.\n",
    "writer = (\n",
    "    climate_sdf.writeStream.format(\"Console\")\n",
    "    .option(\"checkpointLocation\", \"./parking_sdf_checkpoints\")\n",
    "    .option(\"failOnDataLoss\", \"false\")\n",
    "    .outputMode('append')\n",
    "    .trigger(processingTime='10 seconds')\n",
    "    .foreachBatch(stream_process_batch)\n",
    ")\n"
   ]
  },
  {
   "cell_type": "code",
   "execution_count": null,
   "id": "e8cc4465",
   "metadata": {},
   "outputs": [
    {
     "name": "stdout",
     "output_type": "stream",
     "text": [
      "{'geohash_value': 'r36', 'latitude': -37.608, 'longitude': 149.282, 'air_temperature_celcius': 22, 'relative_humidity': 62.7, 'windspeed_knots': 7.6, 'max_wind_speed': 18.1, 'precipitation': ' 0.00I', 'GHI_w/m2': 169, 'date': '10/2/2023', 'datetime': '2023-02-10T00:00:00', 'station': 111, '_id': ObjectId('6481509da76fa647081ee9a4')}\n",
      "{'hotspot_geohash_value': 'r36', 'latitude': -37.623, 'longitude': 149.323, 'confidence': 68.25, 'surface_temperature_celcius': 52.5, 'date': '1/1/2023', 'datetime': '2023-01-01T04:48:00', 'station': 112, 'fire_event': 'other', '_id': ObjectId('6481509da76fa647081ee9a6')}\n",
      "{'hotspot_geohash_value': 'r36', 'latitude': -37.636, 'longitude': 149.33, 'confidence': 75.25, 'surface_temperature_celcius': 48.25, 'date': '2/1/2023', 'datetime': '2023-01-02T14:24:00', 'station': 113, 'fire_event': 'other', '_id': ObjectId('6481509da76fa647081ee9a8')}\n",
      "{'hotspot_geohash_value': 'r36', 'latitude': -37.608, 'longitude': 149.328, 'confidence': 88.85714285714286, 'surface_temperature_celcius': 48.42857142857143, 'date': '3/1/2023', 'datetime': '2023-01-03T09:36:00', 'station': 113, 'fire_event': 'other', '_id': ObjectId('6481509da76fa647081ee9aa')}\n",
      "{'hotspot_geohash_value': 'r36', 'latitude': -37.613, 'longitude': 149.305, 'confidence': 79.14285714285714, 'surface_temperature_celcius': 52.92857142857143, 'date': '3/1/2023', 'datetime': '2023-01-03T14:24:00', 'station': 113, 'fire_event': 'other', '_id': ObjectId('6481509da76fa647081ee9ac')}\n",
      "{'hotspot_geohash_value': 'r36', 'latitude': -37.633, 'longitude': 149.264, 'confidence': 80.8, 'surface_temperature_celcius': 56.4, 'date': '5/1/2023', 'datetime': '2023-01-05T00:00:00', 'station': 112, 'fire_event': 'other', '_id': ObjectId('6481509da76fa647081ee9ae')}\n",
      "{'hotspot_geohash_value': 'r36', 'latitude': -37.38, 'longitude': 149.334, 'confidence': 67.5, 'surface_temperature_celcius': 40.5, 'date': '5/1/2023', 'datetime': '2023-01-05T19:12:00', 'station': 112, 'fire_event': 'other', '_id': ObjectId('6481509da76fa647081ee9b0')}\n",
      "{'hotspot_geohash_value': 'r36', 'latitude': -37.63, 'longitude': 149.232, 'confidence': 93.66666666666667, 'surface_temperature_celcius': 56.0, 'date': '6/1/2023', 'datetime': '2023-01-06T14:24:00', 'station': 112, 'fire_event': 'other', '_id': ObjectId('6481509da76fa647081ee9b2')}\n",
      "{'hotspot_geohash_value': 'r36', 'latitude': -37.389, 'longitude': 149.311, 'confidence': 73.0, 'surface_temperature_celcius': 50.0, 'date': '7/1/2023', 'datetime': '2023-01-07T14:24:00', 'station': 112, 'fire_event': 'other', '_id': ObjectId('6481509da76fa647081ee9b4')}\n",
      "{'hotspot_geohash_value': 'r36', 'latitude': -37.61, 'longitude': 149.279, 'confidence': 68.33333333333333, 'surface_temperature_celcius': 48.0, 'date': '8/1/2023', 'datetime': '2023-01-08T14:24:00', 'station': 112, 'fire_event': 'other', '_id': ObjectId('6481509da76fa647081ee9b6')}\n",
      "{'geohash_value': 'r1x', 'latitude': -36.275, 'longitude': 146.154, 'air_temperature_celcius': 18, 'relative_humidity': 53.3, 'windspeed_knots': 7.9, 'max_wind_speed': 14.0, 'precipitation': ' 0.00I', 'GHI_w/m2': 150, 'date': '12/1/2023', 'datetime': '2023-01-12T00:00:00', 'station': 111, '_id': ObjectId('648150a0a76fa647081ee9b8')}\n",
      "{'geohash_value': 'r1x', 'latitude': -36.284, 'longitude': 146.145, 'air_temperature_celcius': 19, 'relative_humidity': 54.1, 'windspeed_knots': 11.2, 'max_wind_speed': 18.1, 'precipitation': ' 0.31G', 'GHI_w/m2': 157, 'date': '14/1/2023', 'datetime': '2023-01-14T00:00:00', 'station': 111, '_id': ObjectId('648150a7a76fa647081ee9ba')}\n",
      "{'geohash_value': 'r1x', 'latitude': -36.282, 'longitude': 146.157, 'air_temperature_celcius': 17, 'relative_humidity': 50.4, 'windspeed_knots': 11.9, 'max_wind_speed': 16.9, 'precipitation': ' 0.00G', 'GHI_w/m2': 145, 'date': '15/1/2023', 'datetime': '2023-01-15T00:00:00', 'station': 111, '_id': ObjectId('648150b1a76fa647081ee9bc')}\n",
      "{'geohash_value': 'r1x', 'latitude': -36.293, 'longitude': 146.148, 'air_temperature_celcius': 16, 'relative_humidity': 50.8, 'windspeed_knots': 5.8, 'max_wind_speed': 12.0, 'precipitation': ' 0.00I', 'GHI_w/m2': 136, 'date': '16/1/2023', 'datetime': '2023-01-16T00:00:00', 'station': 111, '_id': ObjectId('648150bba76fa647081ee9be')}\n",
      "{'geohash_value': 'r1x', 'latitude': -36.291, 'longitude': 146.159, 'air_temperature_celcius': 24, 'relative_humidity': 55.4, 'windspeed_knots': 5.9, 'max_wind_speed': 9.9, 'precipitation': ' 0.00I', 'GHI_w/m2': 196, 'date': '17/1/2023', 'datetime': '2023-01-17T00:00:00', 'station': 111, '_id': ObjectId('648150c5a76fa647081ee9c0')}\n",
      "{'geohash_value': 'r36', 'latitude': -37.635, 'longitude': 149.303, 'air_temperature_celcius': 24, 'relative_humidity': 53.4, 'windspeed_knots': 9.9, 'max_wind_speed': 15.9, 'precipitation': ' 0.00I', 'GHI_w/m2': 200, 'date': '18/1/2023', 'datetime': '2023-01-18T00:00:00', 'station': 111, '_id': ObjectId('648150cfa76fa647081ee9c2')}\n",
      "{'hotspot_geohash_value': 'r36', 'latitude': -37.61, 'longitude': 149.307, 'confidence': 98.0, 'surface_temperature_celcius': 82.0, 'date': '16/1/2023', 'datetime': '2023-01-16T14:24:00', 'station': 113, 'fire_event': 'natural', '_id': ObjectId('648150cfa76fa647081ee9c4')}\n",
      "{'geohash_value': 'r36', 'latitude': -37.591, 'longitude': 149.33, 'air_temperature_celcius': 16, 'relative_humidity': 46.7, 'windspeed_knots': 10.0, 'max_wind_speed': 16.9, 'precipitation': ' 0.00I', 'GHI_w/m2': 141, 'date': '19/1/2023', 'datetime': '2023-01-19T00:00:00', 'station': 111, '_id': ObjectId('648150d9a76fa647081ee9c6')}\n",
      "{'geohash_value': 'r36', 'latitude': -37.59, 'longitude': 149.31, 'air_temperature_celcius': 19, 'relative_humidity': 57.2, 'windspeed_knots': 8.9, 'max_wind_speed': 15.0, 'precipitation': ' 0.98G', 'GHI_w/m2': 153, 'date': '20/1/2023', 'datetime': '2023-01-20T00:00:00', 'station': 111, '_id': ObjectId('648150e3a76fa647081ee9c8')}\n",
      "{'geohash_value': 'r36', 'latitude': -37.633, 'longitude': 149.264, 'air_temperature_celcius': 16, 'relative_humidity': 50.9, 'windspeed_knots': 12.9, 'max_wind_speed': 21.0, 'precipitation': ' 0.03G', 'GHI_w/m2': 136, 'date': '21/1/2023', 'datetime': '2023-01-21T00:00:00', 'station': 111, '_id': ObjectId('648150efa76fa647081ee9ca')}\n",
      "{'geohash_value': 'r36', 'latitude': -37.585, 'longitude': 149.336, 'air_temperature_celcius': 17, 'relative_humidity': 52.5, 'windspeed_knots': 6.7, 'max_wind_speed': 12.0, 'precipitation': ' 0.00G', 'GHI_w/m2': 143, 'date': '22/1/2023', 'datetime': '2023-01-22T00:00:00', 'station': 111, '_id': ObjectId('648150f7a76fa647081ee9cc')}\n",
      "{'geohash_value': 'r36', 'latitude': -37.58, 'longitude': 149.331, 'air_temperature_celcius': 23, 'relative_humidity': 59.0, 'windspeed_knots': 6.0, 'max_wind_speed': 12.0, 'precipitation': ' 0.00I', 'GHI_w/m2': 182, 'date': '23/1/2023', 'datetime': '2023-01-23T00:00:00', 'station': 111, '_id': ObjectId('64815101a76fa647081ee9ce')}\n",
      "{'geohash_value': 'r36', 'latitude': -37.583, 'longitude': 149.316, 'air_temperature_celcius': 25, 'relative_humidity': 58.3, 'windspeed_knots': 12.2, 'max_wind_speed': 22.0, 'precipitation': ' 0.04G', 'GHI_w/m2': 199, 'date': '24/1/2023', 'datetime': '2023-01-24T00:00:00', 'station': 111, '_id': ObjectId('6481510ba76fa647081ee9d0')}\n",
      "{'geohash_value': 'r36', 'latitude': -37.38, 'longitude': 149.334, 'air_temperature_celcius': 16, 'relative_humidity': 48.2, 'windspeed_knots': 9.9, 'max_wind_speed': 18.1, 'precipitation': ' 0.01G', 'GHI_w/m2': 139, 'date': '25/1/2023', 'datetime': '2023-01-25T00:00:00', 'station': 111, '_id': ObjectId('64815115a76fa647081ee9d2')}\n",
      "{'geohash_value': 'r36', 'latitude': -37.602, 'longitude': 149.295, 'air_temperature_celcius': 17, 'relative_humidity': 50.8, 'windspeed_knots': 9.0, 'max_wind_speed': 15.9, 'precipitation': ' 0.00G', 'GHI_w/m2': 145, 'date': '26/1/2023', 'datetime': '2023-01-26T00:00:00', 'station': 111, '_id': ObjectId('6481511fa76fa647081ee9d4')}\n",
      "{'geohash_value': 'r36', 'latitude': -37.598, 'longitude': 149.29, 'air_temperature_celcius': 18, 'relative_humidity': 53.5, 'windspeed_knots': 8.8, 'max_wind_speed': 13.0, 'precipitation': ' 0.00I', 'GHI_w/m2': 150, 'date': '27/1/2023', 'datetime': '2023-01-27T00:00:00', 'station': 111, '_id': ObjectId('64815129a76fa647081ee9d6')}\n",
      "{'geohash_value': 'r36', 'latitude': -37.596, 'longitude': 149.319, 'air_temperature_celcius': 19, 'relative_humidity': 56.1, 'windspeed_knots': 6.9, 'max_wind_speed': 12.0, 'precipitation': ' 0.00A', 'GHI_w/m2': 155, 'date': '28/1/2023', 'datetime': '2023-01-28T00:00:00', 'station': 111, '_id': ObjectId('64815133a76fa647081ee9d8')}\n"
     ]
    },
    {
     "name": "stdout",
     "output_type": "stream",
     "text": [
      "{'geohash_value': 'r36', 'latitude': -37.63, 'longitude': 149.232, 'air_temperature_celcius': 18, 'relative_humidity': 57.0, 'windspeed_knots': 7.4, 'max_wind_speed': 15.0, 'precipitation': ' 0.00I', 'GHI_w/m2': 145, 'date': '29/1/2023', 'datetime': '2023-01-29T00:00:00', 'station': 111, '_id': ObjectId('6481513da76fa647081ee9da')}\n",
      "{'geohash_value': 'r36', 'latitude': -37.644, 'longitude': 149.233, 'air_temperature_celcius': 22, 'relative_humidity': 58.0, 'windspeed_knots': 6.9, 'max_wind_speed': 12.0, 'precipitation': ' 0.00I', 'GHI_w/m2': 176, 'date': '30/1/2023', 'datetime': '2023-01-30T00:00:00', 'station': 111, '_id': ObjectId('64815146a76fa647081ee9dc')}\n",
      "{'geohash_value': 'r36', 'latitude': -37.642, 'longitude': 149.263, 'air_temperature_celcius': 20, 'relative_humidity': 55.8, 'windspeed_knots': 10.5, 'max_wind_speed': 15.9, 'precipitation': ' 0.01G', 'GHI_w/m2': 163, 'date': '31/1/2023', 'datetime': '2023-01-31T00:00:00', 'station': 111, '_id': ObjectId('64815151a76fa647081ee9de')}\n",
      "{'geohash_value': 'r36', 'latitude': -37.634, 'longitude': 149.237, 'air_temperature_celcius': 16, 'relative_humidity': 48.4, 'windspeed_knots': 8.1, 'max_wind_speed': 15.9, 'precipitation': ' 0.00G', 'GHI_w/m2': 139, 'date': '1/2/2023', 'datetime': '2023-02-01T00:00:00', 'station': 111, '_id': ObjectId('6481515ba76fa647081ee9e0')}\n",
      "{'geohash_value': 'r36', 'latitude': -37.384, 'longitude': 149.336, 'air_temperature_celcius': 16, 'relative_humidity': 48.9, 'windspeed_knots': 5.4, 'max_wind_speed': 8.9, 'precipitation': ' 0.00I', 'GHI_w/m2': 138, 'date': '2/2/2023', 'datetime': '2023-02-02T00:00:00', 'station': 111, '_id': ObjectId('64815165a76fa647081ee9e2')}\n",
      "{'geohash_value': 'r36', 'latitude': -37.389, 'longitude': 149.311, 'air_temperature_celcius': 18, 'relative_humidity': 53.0, 'windspeed_knots': 6.6, 'max_wind_speed': 14.0, 'precipitation': ' 0.00I', 'GHI_w/m2': 150, 'date': '3/2/2023', 'datetime': '2023-02-03T00:00:00', 'station': 111, '_id': ObjectId('6481516ea76fa647081ee9e4')}\n",
      "{'geohash_value': 'r36', 'latitude': -37.605, 'longitude': 149.302, 'air_temperature_celcius': 18, 'relative_humidity': 54.4, 'windspeed_knots': 5.7, 'max_wind_speed': 9.9, 'precipitation': ' 0.00I', 'GHI_w/m2': 149, 'date': '4/2/2023', 'datetime': '2023-02-04T00:00:00', 'station': 111, '_id': ObjectId('64815179a76fa647081ee9e6')}\n"
     ]
    }
   ],
   "source": [
    "#Ensures that the streaming query is properly started, continues running until explicitly stopped, and handles \n",
    "#any interruptions or errors gracefully.\n",
    "try:\n",
    "    query = writer.start()\n",
    "    query.awaitTermination()\n",
    "except KeyboardInterrupt:\n",
    "    print('Interrupted by CTRL-C. Stopping query.')\n",
    "finally:\n",
    "    query.stop()"
   ]
  },
  {
   "cell_type": "code",
   "execution_count": null,
   "id": "dc9c3adc",
   "metadata": {},
   "outputs": [],
   "source": []
  }
 ],
 "metadata": {
  "kernelspec": {
   "display_name": "Python 3 (ipykernel)",
   "language": "python",
   "name": "python3"
  },
  "language_info": {
   "codemirror_mode": {
    "name": "ipython",
    "version": 3
   },
   "file_extension": ".py",
   "mimetype": "text/x-python",
   "name": "python",
   "nbconvert_exporter": "python",
   "pygments_lexer": "ipython3",
   "version": "3.8.16"
  }
 },
 "nbformat": 4,
 "nbformat_minor": 5
}
